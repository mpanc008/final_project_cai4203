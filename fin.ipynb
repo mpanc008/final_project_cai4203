{
 "cells": [
  {
   "metadata": {},
   "cell_type": "markdown",
   "source": "# Imports",
   "id": "d71ec6b5b408ee99"
  },
  {
   "cell_type": "code",
   "id": "initial_id",
   "metadata": {
    "collapsed": true,
    "ExecuteTime": {
     "end_time": "2025-07-10T16:58:58.965926Z",
     "start_time": "2025-07-10T16:58:58.926940Z"
    }
   },
   "source": [
    "import numpy as np\n",
    "import pandas as pd\n",
    "import matplotlib.pyplot as plt\n",
    "import tensorflow as tf\n",
    "from tensorflow.keras import Input, Model\n",
    "from tensorflow.keras.models import Sequential\n",
    "from tensorflow.keras.layers import Conv2D, MaxPooling2D, Flatten, Dense, Dropout, Activation\n",
    "from tensorflow.keras.optimizers import RMSprop\n",
    "from tensorflow.keras.utils import to_categorical\n",
    "from tensorflow.keras.preprocessing.image import ImageDataGenerator"
   ],
   "outputs": [],
   "execution_count": 9
  },
  {
   "metadata": {},
   "cell_type": "markdown",
   "source": "# Preprocessing",
   "id": "50ee301f12cb2b15"
  },
  {
   "metadata": {
    "ExecuteTime": {
     "end_time": "2025-07-10T17:50:32.516153Z",
     "start_time": "2025-07-10T17:49:45.170615Z"
    }
   },
   "cell_type": "code",
   "source": [
    "# test\n",
    "from datasets import load_dataset\n",
    "\n",
    "for name in [\"inpainting.zip\", \"insight.zip\", \"text2img.zip\", \"wiki.zip\"]:\n",
    "    print(f\"--- {name} ---\")\n",
    "    ds = load_dataset(\"OpenRL/DeepFakeFace\", data_files=name, split=\"train\", streaming=True)\n",
    "    for i, item in enumerate(ds):\n",
    "        print(item)\n",
    "        if i == 2:  # Show only the first 3 samples\n",
    "            break"
   ],
   "id": "73c7791aedfe16eb",
   "outputs": [
    {
     "name": "stdout",
     "output_type": "stream",
     "text": [
      "--- inpainting.zip ---\n",
      "{'image': <PIL.JpegImagePlugin.JpegImageFile image mode=RGB size=512x512 at 0x168C08CB0>, 'label': 0}\n",
      "{'image': <PIL.JpegImagePlugin.JpegImageFile image mode=RGB size=512x512 at 0x161E3D040>, 'label': 0}\n",
      "{'image': <PIL.JpegImagePlugin.JpegImageFile image mode=RGB size=512x512 at 0x168C08C50>, 'label': 0}\n",
      "--- insight.zip ---\n",
      "{'image': <PIL.JpegImagePlugin.JpegImageFile image mode=RGB size=512x512 at 0x168711580>, 'label': 0}\n",
      "{'image': <PIL.JpegImagePlugin.JpegImageFile image mode=RGB size=512x512 at 0x168C080B0>, 'label': 0}\n",
      "{'image': <PIL.JpegImagePlugin.JpegImageFile image mode=RGB size=512x512 at 0x168C0B1D0>, 'label': 0}\n",
      "--- text2img.zip ---\n",
      "{'image': <PIL.JpegImagePlugin.JpegImageFile image mode=RGB size=512x512 at 0x161E3C380>, 'label': 0}\n",
      "{'image': <PIL.JpegImagePlugin.JpegImageFile image mode=RGB size=512x512 at 0x168712A80>, 'label': 0}\n",
      "{'image': <PIL.JpegImagePlugin.JpegImageFile image mode=RGB size=512x512 at 0x161E87A10>, 'label': 0}\n",
      "--- wiki.zip ---\n",
      "{'image': <PIL.JpegImagePlugin.JpegImageFile image mode=RGB size=400x557 at 0x16958ABD0>, 'label': 0}\n",
      "{'image': <PIL.JpegImagePlugin.JpegImageFile image mode=RGB size=550x825 at 0x1694EFEC0>, 'label': 0}\n",
      "{'image': <PIL.JpegImagePlugin.JpegImageFile image mode=RGB size=440x653 at 0x1694EFDA0>, 'label': 0}\n"
     ]
    }
   ],
   "execution_count": 15
  }
 ],
 "metadata": {
  "kernelspec": {
   "display_name": "Python 3",
   "language": "python",
   "name": "python3"
  },
  "language_info": {
   "codemirror_mode": {
    "name": "ipython",
    "version": 2
   },
   "file_extension": ".py",
   "mimetype": "text/x-python",
   "name": "python",
   "nbconvert_exporter": "python",
   "pygments_lexer": "ipython2",
   "version": "2.7.6"
  }
 },
 "nbformat": 4,
 "nbformat_minor": 5
}
